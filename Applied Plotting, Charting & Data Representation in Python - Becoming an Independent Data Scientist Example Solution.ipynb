{
 "cells": [
  {
   "cell_type": "markdown",
   "id": "9edc26ad",
   "metadata": {},
   "source": [
    "This assignment requires that you identify at least two publicly accessible datasets from the same region that are consistent across a meaningful dimension. You will state a research question that can be answered using these data sets and then create a visual using matplotlib that addresses your stated research question. You will then be asked to justify how your visual addresses your research question. "
   ]
  },
  {
   "cell_type": "code",
   "execution_count": null,
   "id": "b4af9e37",
   "metadata": {},
   "outputs": [],
   "source": [
    "import pandas as pd\n",
    "import numpy as np\n",
    "#import scipy.stats as stats\n",
    "#import re\n",
    "\n",
    "dol = pd.read_csv(\"miamidolphinsyears.csv\")\n",
    "dol = dol.iloc[:-3,[0,3,4]]\n",
    "dol = dol.iloc[2:,[0,1,2]]\n",
    "dol.drop([6], axis=0, inplace=True)\n",
    "dol = dol.astype({'Season': int})\n",
    "dol = dol[dol.Season >= 2010]\n",
    "dol.rename(columns = {'Season':'year'}, inplace = True)\n",
    "dol.rename(columns = {'Unnamed: 3':'wins'}, inplace = True)\n",
    "dol.rename(columns = {'Unnamed: 4':'losses'}, inplace = True)\n",
    "dol = dol.reset_index()\n",
    "dol = dol.iloc[:,[1,2,3]]\n",
    "dol = dol.astype({'wins': int})\n",
    "dol = dol.astype({'losses': int})\n",
    "dol['per'] = dol['wins']/(dol['wins']+dol['losses'])\n",
    "dol = dol.iloc[:,[0,3]]\n",
    "dolper = dol\n",
    "dol"
   ]
  },
  {
   "cell_type": "code",
   "execution_count": null,
   "id": "5da27e7f",
   "metadata": {},
   "outputs": [],
   "source": [
    "dolper = dolper.set_index('year')\n",
    "dolper"
   ]
  },
  {
   "cell_type": "code",
   "execution_count": null,
   "id": "0be1e170",
   "metadata": {},
   "outputs": [],
   "source": [
    "doladj = dol['year']\n",
    "doladj"
   ]
  },
  {
   "cell_type": "code",
   "execution_count": null,
   "id": "0793d48d",
   "metadata": {},
   "outputs": [],
   "source": [
    "import re\n",
    "\n",
    "heat = pd.read_csv(\"miamiheatyears.csv\")\n",
    "heat = heat.astype({'Season': str})\n",
    "heat['Season'] = heat['Season'].str.replace(r\"\\–[0-9][0-9]\",\"\")\n",
    "heat['Season'] = heat['Season'].str.replace(r\"\\[.*\\]\",\"\")\n",
    "heat = heat.iloc[:-1,[0,8]]\n",
    "heat.rename(columns = {'Season':'year'}, inplace = True)\n",
    "heat.rename(columns = {'Win%':'per'}, inplace = True)\n",
    "heat = heat.astype({'year': int})\n",
    "heat = heat[heat.year >= 2010]\n",
    "heat = heat.reset_index()\n",
    "heat = heat.iloc[:,[1,2]]\n",
    "heatper = heat\n",
    "heat"
   ]
  },
  {
   "cell_type": "code",
   "execution_count": null,
   "id": "0df43895",
   "metadata": {},
   "outputs": [],
   "source": [
    "heatper = heat.set_index('year')\n",
    "heatper"
   ]
  },
  {
   "cell_type": "code",
   "execution_count": null,
   "id": "c2ffb4af",
   "metadata": {},
   "outputs": [],
   "source": [
    "import matplotlib.pyplot as plt\n",
    "\n",
    "#plt.axis([2010, 2021, 0, 1.0])\n",
    "plt.figure(figsize=(10,5))\n",
    "\n",
    "plt.plot(dolper.values, c = 'red', label ='Dolphins Win %')\n",
    "plt.plot(heatper.values, c = 'blue', label ='Heat Win %')\n",
    "\n",
    "plt.xlabel('Season', fontsize=15)\n",
    "plt.ylabel('Win %', fontsize=15)\n",
    "plt.title('Dolphins and Heat Win Percentage\\n'\n",
    "          'Year to Year (2010 - 2021)', fontsize=15)\n",
    "\n",
    "plt.gca().spines['top'].set_visible(False)\n",
    "plt.gca().spines['right'].set_visible(False)\n",
    "plt.legend(loc = 0, fontsize=10, frameon = False)\n",
    "\n",
    "default_x_ticks = range(len(dolper))\n",
    "plt.plot(default_x_ticks, dolper, c = 'red')\n",
    "plt.xticks(default_x_ticks, doladj, rotation = -45)\n",
    "\n",
    "#axes.set_xticks([0, 1, 2, 3, 4, 5, 6, 7, 8, 9, 10, 11])\n",
    "#axes.set_xticklabels(['2010','February', 'March','April','May', 'June', 'July', 'August', 'September', 'October', 'November','12'])\n",
    "#plt.xticks(rotation=45)\n",
    "\n",
    "plt.show()"
   ]
  }
 ],
 "metadata": {
  "kernelspec": {
   "display_name": "Python 3 (ipykernel)",
   "language": "python",
   "name": "python3"
  },
  "language_info": {
   "codemirror_mode": {
    "name": "ipython",
    "version": 3
   },
   "file_extension": ".py",
   "mimetype": "text/x-python",
   "name": "python",
   "nbconvert_exporter": "python",
   "pygments_lexer": "ipython3",
   "version": "3.11.1"
  }
 },
 "nbformat": 4,
 "nbformat_minor": 5
}
